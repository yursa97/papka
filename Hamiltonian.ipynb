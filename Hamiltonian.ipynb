{
 "cells": [
  {
   "cell_type": "code",
   "execution_count": 1,
   "metadata": {
    "collapsed": true
   },
   "outputs": [],
   "source": [
    "%matplotlib qt5\n",
    "from matplotlib import pyplot as plt"
   ]
  },
  {
   "cell_type": "code",
   "execution_count": 2,
   "metadata": {
    "collapsed": false
   },
   "outputs": [],
   "source": [
    "from numpy import *\n",
    "import numpy as np\n",
    "from qutip import *\n",
    "import qutip as qp\n",
    "from scipy.constants import *"
   ]
  },
  {
   "cell_type": "code",
   "execution_count": 3,
   "metadata": {
    "collapsed": true
   },
   "outputs": [],
   "source": [
    "from sympy import Matrix, var, init_printing, simplify, latex, series, oo\n",
    "init_printing(use_latex='mathjax')"
   ]
  },
  {
   "cell_type": "code",
   "execution_count": 21,
   "metadata": {
    "collapsed": true
   },
   "outputs": [],
   "source": [
    "from itertools import product"
   ]
  },
  {
   "cell_type": "code",
   "execution_count": 4,
   "metadata": {
    "collapsed": false
   },
   "outputs": [
    {
     "data": {
      "text/latex": [
       "$$\\left ( C_{k}, \\quad C_{r}, \\quad C_{g1}, \\quad C_{g2}, \\quad C_{q1}, \\quad C_{q2}, \\quad C_{qq}, \\quad С_{s1}, \\quad C_{1}, \\quad C_{2}\\right )$$"
      ],
      "text/plain": [
       "(Cₖ, Cᵣ, C_g1, C_g2, C_q1, C_q2, C_qq, Сₛ₁, C₁, C₂)"
      ]
     },
     "execution_count": 4,
     "metadata": {},
     "output_type": "execute_result"
    }
   ],
   "source": [
    "var(\"C_k C_r C_g1 C_g2 C_q1 C_q2 C_qq С_s1 C_1 C_2\")"
   ]
  },
  {
   "cell_type": "code",
   "execution_count": 5,
   "metadata": {
    "collapsed": false
   },
   "outputs": [
    {
     "data": {
      "text/latex": [
       "$$\\left[\\begin{matrix}C_{g1} + C_{g2} + C_{k} + C_{r} & - C_{g1} & - C_{g2}\\\\- C_{g1} & C_{g1} + C_{q1} + C_{qq} & - C_{qq}\\\\- C_{g2} & - C_{qq} & C_{g2} + C_{q2} + C_{qq}\\end{matrix}\\right]$$"
      ],
      "text/plain": [
       "⎡C_g1 + C_g2 + Cₖ + Cᵣ        -C_g1               -C_g2       ⎤\n",
       "⎢                                                             ⎥\n",
       "⎢        -C_g1          C_g1 + C_q1 + C_qq        -C_qq       ⎥\n",
       "⎢                                                             ⎥\n",
       "⎣        -C_g2                -C_qq         C_g2 + C_q2 + C_qq⎦"
      ]
     },
     "execution_count": 5,
     "metadata": {},
     "output_type": "execute_result"
    }
   ],
   "source": [
    "M = Matrix([[C_k+C_r+C_g1+C_g2, -C_g1, -C_g2],[-C_g1, C_g1+C_q1+C_qq, -C_qq],[-C_g2, -C_qq, C_g2+C_q2+C_qq]]) \n",
    "# latex(M)\n",
    "M"
   ]
  },
  {
   "cell_type": "code",
   "execution_count": 7,
   "metadata": {
    "collapsed": false
   },
   "outputs": [
    {
     "data": {
      "text/latex": [
       "$$\\left[\\begin{matrix}\\frac{1}{C_{r}} & \\frac{1}{C_{r} С_{s1}} \\left(C_{2} C_{g1} + C_{g2} C_{qq}\\right) & \\frac{1}{C_{r} С_{s1}} \\left(C_{g1} \\left(C_{g2} + C_{qq}\\right) + C_{g2} \\left(C_{q1} + C_{qq}\\right)\\right)\\\\\\frac{1}{C_{r} С_{s1}} \\left(C_{2} C_{g1} + C_{g2} C_{qq}\\right) & \\frac{C_{2}}{С_{s1}} & \\frac{C_{qq}}{С_{s1}}\\\\\\frac{1}{C_{r} С_{s1}} \\left(C_{g1} \\left(C_{g2} + C_{qq}\\right) + C_{g2} \\left(C_{q1} + C_{qq}\\right)\\right) & \\frac{C_{qq}}{С_{s1}} & \\frac{C_{1}}{С_{s1}}\\end{matrix}\\right]$$"
      ],
      "text/plain": [
       "⎡                  1                      C₂⋅C_g1 + C_g2⋅C_qq  C_g1⋅(C_g2 + C_\n",
       "⎢                  ──                     ───────────────────  ───────────────\n",
       "⎢                  Cᵣ                            Cᵣ⋅Сₛ₁                       \n",
       "⎢                                                                             \n",
       "⎢          C₂⋅C_g1 + C_g2⋅C_qq                     C₂                         \n",
       "⎢          ───────────────────                    ───                         \n",
       "⎢                 Cᵣ⋅Сₛ₁                          Сₛ₁                         \n",
       "⎢                                                                             \n",
       "⎢C_g1⋅(C_g2 + C_qq) + C_g2⋅(C_q1 + C_qq)         C_qq                         \n",
       "⎢───────────────────────────────────────         ────                         \n",
       "⎣                 Cᵣ⋅Сₛ₁                         Сₛ₁                          \n",
       "\n",
       "qq) + C_g2⋅(C_q1 + C_qq)⎤\n",
       "────────────────────────⎥\n",
       "  Cᵣ⋅Сₛ₁                ⎥\n",
       "                        ⎥\n",
       "  C_qq                  ⎥\n",
       "  ────                  ⎥\n",
       "  Сₛ₁                   ⎥\n",
       "                        ⎥\n",
       "    C₁                  ⎥\n",
       "   ───                  ⎥\n",
       "   Сₛ₁                  ⎦"
      ]
     },
     "execution_count": 7,
     "metadata": {},
     "output_type": "execute_result"
    }
   ],
   "source": [
    "# обратная матрица с учетом С_r много больше остальных емкостей\n",
    "M_simp = Matrix([[1/C_r, (\n",
    "  C_g2 *C_qq + C_g1* (C_g2 + C_q2 + C_qq))/(((C_g1 + C_q1) *(C_g2 + C_q2) + (C_g1 + C_g2 + C_q1 + \n",
    "        C_q2) *C_qq)* C_r), (\n",
    "  C_g1 *(C_g2 + C_qq) + \n",
    "   C_g2 *(C_q1 + \n",
    "      C_qq))/(((C_g1 + C_q1) *(C_g2 + C_q2) + (C_g1 + C_g2 + C_q1 + \n",
    "        C_q2)* C_qq)* C_r)], [(\n",
    "  C_g2 *C_qq + \n",
    "   C_g1 *(C_g2 + C_q2 + \n",
    "      C_qq))/(((C_g1 + C_q1) *(C_g2 + C_q2) + (C_g1 + C_g2 + C_q1 + \n",
    "        C_q2) *C_qq)* C_r), (\n",
    "  C_g2 + C_q2 + \n",
    "   C_qq)/((C_g1 + C_q1)* (C_g2 + C_q2) + (C_g1 + C_g2 + C_q1 + \n",
    "      C_q2)* C_qq), \n",
    "  C_qq/((C_g1 + C_q1) *(C_g2 + C_q2) + (C_g1 + C_g2 + C_q1 + \n",
    "      C_q2) *C_qq)], [(\n",
    "  C_g1 *(C_g2 + C_qq) + \n",
    "   C_g2 *(C_q1 + \n",
    "      C_qq))/(((C_g1 + C_q1)* (C_g2 + C_q2) + (C_g1 + C_g2 + C_q1 + \n",
    "        C_q2) *C_qq)* C_r), \n",
    "  C_qq/((C_g1 + C_q1)* (C_g2 + C_q2) + (C_g1 + C_g2 + C_q1 + \n",
    "      C_q2)* C_qq), (\n",
    "  C_g1 + C_q1 + \n",
    "   C_qq)/((C_g1 + C_q1) *(C_g2 + C_q2) + (C_g1 + C_g2 + C_q1 + \n",
    "      C_q2)* C_qq)]])\n",
    "M_simp_1 = simplify( M_simp.subs((C_g1 + C_q1) *(C_g2 + C_q2) + (C_g1 + C_g2 + C_q1 + C_q2)* C_qq,С_s1).subs(C_g1 + C_q1 + \n",
    "   C_qq,C_1).subs(  C_g2 + C_q2 + C_qq,C_2))\n",
    "M_simp_1"
   ]
  },
  {
   "cell_type": "code",
   "execution_count": 8,
   "metadata": {
    "collapsed": false
   },
   "outputs": [
    {
     "data": {
      "text/latex": [
       "$$\\frac{C_{g2} + C_{q2} + C_{qq}}{C_{qq} \\left(C_{g1} + C_{g2} + C_{q1} + C_{q2}\\right) + \\left(C_{g1} + C_{q1}\\right) \\left(C_{g2} + C_{q2}\\right)}$$"
      ],
      "text/plain": [
       "                      C_g2 + C_q2 + C_qq                      \n",
       "──────────────────────────────────────────────────────────────\n",
       "C_qq⋅(C_g1 + C_g2 + C_q1 + C_q2) + (C_g1 + C_q1)⋅(C_g2 + C_q2)"
      ]
     },
     "execution_count": 8,
     "metadata": {},
     "output_type": "execute_result"
    }
   ],
   "source": [
    "(C_g2 + C_q2 + C_qq)/((C_g1 + C_q1) *(C_g2 + C_q2) + (C_g1 + C_g2 + C_q1 + C_q2)* C_qq)"
   ]
  },
  {
   "cell_type": "code",
   "execution_count": 9,
   "metadata": {
    "collapsed": false
   },
   "outputs": [
    {
     "data": {
      "text/latex": [
       "$$\\left[\\begin{matrix}\\frac{1}{C_{r}} & \\frac{C_{g1} \\left(C_{g2} + C_{q2} + C_{qq}\\right) + C_{g2} C_{qq}}{C_{r} \\left(C_{qq} \\left(C_{g1} + C_{g2} + C_{q1} + C_{q2}\\right) + \\left(C_{g1} + C_{q1}\\right) \\left(C_{g2} + C_{q2}\\right)\\right)} & \\frac{C_{g1} \\left(C_{g2} + C_{qq}\\right) + C_{g2} \\left(C_{q1} + C_{qq}\\right)}{C_{r} \\left(C_{qq} \\left(C_{g1} + C_{g2} + C_{q1} + C_{q2}\\right) + \\left(C_{g1} + C_{q1}\\right) \\left(C_{g2} + C_{q2}\\right)\\right)}\\\\\\frac{C_{g1} \\left(C_{g2} + C_{q2} + C_{qq}\\right) + C_{g2} C_{qq}}{C_{r} \\left(C_{qq} \\left(C_{g1} + C_{g2} + C_{q1} + C_{q2}\\right) + \\left(C_{g1} + C_{q1}\\right) \\left(C_{g2} + C_{q2}\\right)\\right)} & \\frac{C_{g2} + C_{q2} + C_{qq}}{C_{qq} \\left(C_{g1} + C_{g2} + C_{q1} + C_{q2}\\right) + \\left(C_{g1} + C_{q1}\\right) \\left(C_{g2} + C_{q2}\\right)} & \\frac{C_{qq}}{C_{qq} \\left(C_{g1} + C_{g2} + C_{q1} + C_{q2}\\right) + \\left(C_{g1} + C_{q1}\\right) \\left(C_{g2} + C_{q2}\\right)}\\\\\\frac{C_{g1} \\left(C_{g2} + C_{qq}\\right) + C_{g2} \\left(C_{q1} + C_{qq}\\right)}{C_{r} \\left(C_{qq} \\left(C_{g1} + C_{g2} + C_{q1} + C_{q2}\\right) + \\left(C_{g1} + C_{q1}\\right) \\left(C_{g2} + C_{q2}\\right)\\right)} & \\frac{C_{qq}}{C_{qq} \\left(C_{g1} + C_{g2} + C_{q1} + C_{q2}\\right) + \\left(C_{g1} + C_{q1}\\right) \\left(C_{g2} + C_{q2}\\right)} & \\frac{C_{g1} + C_{q1} + C_{qq}}{C_{qq} \\left(C_{g1} + C_{g2} + C_{q1} + C_{q2}\\right) + \\left(C_{g1} + C_{q1}\\right) \\left(C_{g2} + C_{q2}\\right)}\\end{matrix}\\right]$$"
      ],
      "text/plain": [
       "⎡                                1                                            \n",
       "⎢                                ──                                   ────────\n",
       "⎢                                Cᵣ                                   Cᵣ⋅(C_qq\n",
       "⎢                                                                             \n",
       "⎢               C_g1⋅(C_g2 + C_q2 + C_qq) + C_g2⋅C_qq                         \n",
       "⎢───────────────────────────────────────────────────────────────────    ──────\n",
       "⎢Cᵣ⋅(C_qq⋅(C_g1 + C_g2 + C_q1 + C_q2) + (C_g1 + C_q1)⋅(C_g2 + C_q2))    C_qq⋅(\n",
       "⎢                                                                             \n",
       "⎢              C_g1⋅(C_g2 + C_qq) + C_g2⋅(C_q1 + C_qq)                        \n",
       "⎢───────────────────────────────────────────────────────────────────    ──────\n",
       "⎣Cᵣ⋅(C_qq⋅(C_g1 + C_g2 + C_q1 + C_q2) + (C_g1 + C_q1)⋅(C_g2 + C_q2))    C_qq⋅(\n",
       "\n",
       "       C_g1⋅(C_g2 + C_q2 + C_qq) + C_g2⋅C_qq                               C_g\n",
       "───────────────────────────────────────────────────────────  ─────────────────\n",
       "⋅(C_g1 + C_g2 + C_q1 + C_q2) + (C_g1 + C_q1)⋅(C_g2 + C_q2))  Cᵣ⋅(C_qq⋅(C_g1 + \n",
       "                                                                              \n",
       "                C_g2 + C_q2 + C_qq                                            \n",
       "────────────────────────────────────────────────────────       ───────────────\n",
       "C_g1 + C_g2 + C_q1 + C_q2) + (C_g1 + C_q1)⋅(C_g2 + C_q2)       C_qq⋅(C_g1 + C_\n",
       "                                                                              \n",
       "                       C_qq                                                   \n",
       "────────────────────────────────────────────────────────       ───────────────\n",
       "C_g1 + C_g2 + C_q1 + C_q2) + (C_g1 + C_q1)⋅(C_g2 + C_q2)       C_qq⋅(C_g1 + C_\n",
       "\n",
       "1⋅(C_g2 + C_qq) + C_g2⋅(C_q1 + C_qq)              ⎤\n",
       "──────────────────────────────────────────────────⎥\n",
       "C_g2 + C_q1 + C_q2) + (C_g1 + C_q1)⋅(C_g2 + C_q2))⎥\n",
       "                                                  ⎥\n",
       "              C_qq                                ⎥\n",
       "───────────────────────────────────────────────   ⎥\n",
       "g2 + C_q1 + C_q2) + (C_g1 + C_q1)⋅(C_g2 + C_q2)   ⎥\n",
       "                                                  ⎥\n",
       "       C_g1 + C_q1 + C_qq                         ⎥\n",
       "───────────────────────────────────────────────   ⎥\n",
       "g2 + C_q1 + C_q2) + (C_g1 + C_q1)⋅(C_g2 + C_q2)   ⎦"
      ]
     },
     "execution_count": 9,
     "metadata": {},
     "output_type": "execute_result"
    }
   ],
   "source": [
    "M_simp"
   ]
  },
  {
   "cell_type": "code",
   "execution_count": 10,
   "metadata": {
    "collapsed": false
   },
   "outputs": [
    {
     "data": {
      "text/latex": [
       "$$461738130156.261$$"
      ],
      "text/plain": [
       "461738130156.261"
      ]
     },
     "execution_count": 10,
     "metadata": {},
     "output_type": "execute_result"
    }
   ],
   "source": [
    "simplify((M_simp[1,2]).subs(C_r,0.3e-12*1.5).subs(C_g1,9.6788e-15).subs(C_g2,12.158e-15).subs(C_q1,75.848e-15).subs(C_q2,75.496e-15).subs(C_qq,3.7624e-15).subs(C_k,0))"
   ]
  },
  {
   "cell_type": "code",
   "execution_count": 80,
   "metadata": {
    "collapsed": false
   },
   "outputs": [
    {
     "data": {
      "text/latex": [
       "$$597618551963.318$$"
      ],
      "text/plain": [
       "597618551963.318"
      ]
     },
     "execution_count": 80,
     "metadata": {},
     "output_type": "execute_result"
    }
   ],
   "source": [
    "simplify((M_simp[1,2]).subs(C_r,0.3e-12*1.5).subs(C_g1,9.6788e-20).subs(C_g2,12.158e-20).subs(C_q1,75.848e-15).subs(C_q2,75.496e-15).subs(C_qq,3.7624e-15).subs(C_k,0))"
   ]
  },
  {
   "cell_type": "code",
   "execution_count": 79,
   "metadata": {
    "collapsed": true
   },
   "outputs": [],
   "source": [
    "def b_res1(C_g1, C_g2, C_qq, C_q1, C_q2):\n",
    "    return (C_g2 *C_qq + C_g1 *(C_g2 + C_q2 + C_qq))/((C_g1 + C_q1) *(C_g2 + C_q2) + (C_g1 + C_g2 + C_q1 + C_q2) *C_qq)\n",
    "def b_res2(C_g1, C_g2, C_qq, C_q1, C_q2):\n",
    "    return (C_g1 *C_qq + C_g2 *(C_g1 + C_q1 + C_qq))/((C_g2 + C_q2) *(C_g1 + C_q1) + (C_g2 + C_g1 + C_q2 + C_q1) *C_qq)"
   ]
  },
  {
   "cell_type": "code",
   "execution_count": 22,
   "metadata": {
    "collapsed": false
   },
   "outputs": [
    {
     "data": {
      "text/plain": [
       "[<matplotlib.lines.Line2D at 0xe90040c668>]"
      ]
     },
     "execution_count": 22,
     "metadata": {},
     "output_type": "execute_result"
    }
   ],
   "source": [
    "evals = []\n",
    "\n",
    "q = np.linspace(0,10e-15,100)\n",
    "c = np.linspace(0,100e-15,100)\n",
    "\n",
    "y = b_res1(6.0618e-15,3.0867e-15 , q,88.022e-15,88.172e-15)\n",
    "evals.append(y)\n",
    "plt.plot(c,y)"
   ]
  },
  {
   "cell_type": "code",
   "execution_count": 31,
   "metadata": {
    "collapsed": false
   },
   "outputs": [
    {
     "data": {
      "text/latex": [
       "$$0.11420045461109658$$"
      ],
      "text/plain": [
       "0.11420045461109658"
      ]
     },
     "execution_count": 31,
     "metadata": {},
     "output_type": "execute_result"
    }
   ],
   "source": [
    "b_res1(9.6788,12.158,3.7624,75.848,75.496)"
   ]
  },
  {
   "cell_type": "code",
   "execution_count": 61,
   "metadata": {
    "collapsed": false
   },
   "outputs": [
    {
     "data": {
      "text/latex": [
       "$$6.125876615797689$$"
      ],
      "text/plain": [
       "6.125876615797689"
      ]
     },
     "execution_count": 61,
     "metadata": {},
     "output_type": "execute_result"
    }
   ],
   "source": [
    "# GHz\n",
    "w_res = 1/((0.3e-12*1.5*1e-9*1.5)**0.5)/2/pi/10**9\n",
    "w_res\n"
   ]
  },
  {
   "cell_type": "code",
   "execution_count": 76,
   "metadata": {
    "collapsed": false
   },
   "outputs": [
    {
     "data": {
      "text/latex": [
       "$$103.03457437636685$$"
      ],
      "text/plain": [
       "103.03457437636685"
      ]
     },
     "execution_count": 76,
     "metadata": {},
     "output_type": "execute_result"
    }
   ],
   "source": [
    "1.2**2*4*e**2/hbar/2/pi/10**6*461738130156.261"
   ]
  },
  {
   "cell_type": "code",
   "execution_count": 79,
   "metadata": {
    "collapsed": false
   },
   "outputs": [
    {
     "data": {
      "text/latex": [
       "$$84.93333333333335$$"
      ],
      "text/plain": [
       "84.93333333333335"
      ]
     },
     "execution_count": 79,
     "metadata": {},
     "output_type": "execute_result"
    }
   ],
   "source": [
    "0.5*2.6e-15/75e-15*4.9*1000"
   ]
  },
  {
   "cell_type": "code",
   "execution_count": 34,
   "metadata": {
    "collapsed": false
   },
   "outputs": [],
   "source": [
    "V = (hbar*w_res*2*pi*10**9/2/0.3e-12/1.5)**0.5"
   ]
  },
  {
   "cell_type": "code",
   "execution_count": 35,
   "metadata": {
    "collapsed": false
   },
   "outputs": [
    {
     "data": {
      "text/latex": [
       "$$152.47071176149473$$"
      ],
      "text/plain": [
       "152.47071176149473"
      ]
     },
     "execution_count": 35,
     "metadata": {},
     "output_type": "execute_result"
    }
   ],
   "source": [
    "hg1 = 2*0.114200454611097*e*V*1.3\n",
    "\n",
    "hg1/hbar/2/pi/10**6"
   ]
  },
  {
   "cell_type": "code",
   "execution_count": 37,
   "metadata": {
    "collapsed": false
   },
   "outputs": [
    {
     "data": {
      "text/latex": [
       "$$183.83989058929458$$"
      ],
      "text/plain": [
       "183.83989058929458"
      ]
     },
     "execution_count": 37,
     "metadata": {},
     "output_type": "execute_result"
    }
   ],
   "source": [
    "hg2 = 2*0.13769594723079*e*V*1.3\n",
    "\n",
    "hg2/hbar/2/pi/10**6"
   ]
  },
  {
   "cell_type": "code",
   "execution_count": 9,
   "metadata": {
    "collapsed": false
   },
   "outputs": [
    {
     "data": {
      "text/latex": [
       "$$\\left[\\begin{matrix}1333333333333.33 & 180315395528.654 & 149119370430.85\\\\180315395528.654 & 11204454133293.6 & 321700837619.831\\\\149119370430.85 & 321700837619.831 & 11493984887151.4\\end{matrix}\\right]$$"
      ],
      "text/plain": [
       "⎡1333333333333.33  180315395528.654  149119370430.85 ⎤\n",
       "⎢                                                    ⎥\n",
       "⎢180315395528.654  11204454133293.6  321700837619.831⎥\n",
       "⎢                                                    ⎥\n",
       "⎣149119370430.85   321700837619.831  11493984887151.4⎦"
      ]
     },
     "execution_count": 9,
     "metadata": {},
     "output_type": "execute_result"
    }
   ],
   "source": [
    "M_ch = simplify(M_simp.subs(C_r,0.3e-12*2.5).subs(C_g1,11.8e-15).subs(C_g2,9.4e-15).subs(C_q1,75.022e-15).subs(C_q2,75.172e-15).subs(C_qq,2.5e-15))\n",
    "M_ch"
   ]
  },
  {
   "cell_type": "code",
   "execution_count": 11,
   "metadata": {
    "collapsed": false
   },
   "outputs": [],
   "source": [
    "M_1 = M**-1\n",
    "M_1 = simplify(M_1)"
   ]
  },
  {
   "cell_type": "code",
   "execution_count": 12,
   "metadata": {
    "collapsed": true
   },
   "outputs": [],
   "source": [
    "M_n0 = simplify( M_1.subs(C_r,0.3e-12*1.5).subs(C_g1,11.8e-15).subs(C_g2,9.4e-15).subs(C_q1,75.549e-15).subs(C_q2,75.54e-15).subs(C_qq,2.6155e-15).subs(C_k,0))"
   ]
  },
  {
   "cell_type": "code",
   "execution_count": 13,
   "metadata": {
    "collapsed": false
   },
   "outputs": [
    {
     "data": {
      "text/latex": [
       "$$\\left[\\begin{matrix}0.0413392822321032 & 0.00555603328467129 & 0.004604177442169\\\\0.00555603328467129 & 0.216243585985081 & 0.00705623075671877\\\\0.004604177442169 & 0.00705623075671877 & 0.221938817853271\\end{matrix}\\right]$$"
      ],
      "text/plain": [
       "⎡0.0413392822321032   0.00555603328467129   0.004604177442169 ⎤\n",
       "⎢                                                             ⎥\n",
       "⎢0.00555603328467129   0.216243585985081   0.00705623075671877⎥\n",
       "⎢                                                             ⎥\n",
       "⎣ 0.004604177442169   0.00705623075671877   0.221938817853271 ⎦"
      ]
     },
     "execution_count": 13,
     "metadata": {},
     "output_type": "execute_result"
    }
   ],
   "source": [
    "M_n = M_n0*4*e**2/hbar/10**9\n",
    "# print (latex(M_n))hbar\n",
    "M_n/2/pi/4/2"
   ]
  },
  {
   "cell_type": "code",
   "execution_count": 12,
   "metadata": {
    "collapsed": false
   },
   "outputs": [
    {
     "data": {
      "text/latex": [
       "$$3.1855332172445506e-06$$"
      ],
      "text/plain": [
       "3.1855332172445506e-06"
      ]
     },
     "execution_count": 12,
     "metadata": {},
     "output_type": "execute_result"
    }
   ],
   "source": [
    "(hbar/2/0.3e-12*2.5/(0.3e-12*2.5*1e-9*2.5)**0.5)**0.5"
   ]
  },
  {
   "cell_type": "code",
   "execution_count": 14,
   "metadata": {
    "collapsed": true
   },
   "outputs": [],
   "source": [
    "def H_J(Ej1,Ej2,N):\n",
    "    H1 = qp.tensor(identity(N),0.5*qp.tunneling(2*N+1, 1), identity(2*N+1))\n",
    "    H2 = qp.tensor(identity(N), identity(2*N+1), 0.5*qp.tunneling(2*N+1, 1))\n",
    "    tunneling_ops = (H1,H2)\n",
    "    H_J = qp.tensor(qp.qzero(N), qp.qzero(2*N+1), qp.qzero(2*N+1))\n",
    "    E_Js = [Ej1, Ej2]\n",
    "    for idx, tunneling_op in enumerate(tunneling_ops):\n",
    "        H_J -= E_Js[idx]*tunneling_op\n",
    "    return H_J"
   ]
  },
  {
   "cell_type": "code",
   "execution_count": 15,
   "metadata": {
    "collapsed": false
   },
   "outputs": [],
   "source": [
    "def H_c(L_r,C_r,N):\n",
    "    charge_ops = qp.tensor(1/2/e*(1/2*hbar)**0.5*(C_r/L_r)**0.25*(destroy(N)-create(N))/1j,\n",
    "                           identity(2*N+1),\n",
    "                           identity(2*N+1)), \\\n",
    "                 qp.tensor(identity(N),\n",
    "                           charge(N),\n",
    "                           identity(2*N+1)), \\\n",
    "                 qp.tensor(identity(N),\n",
    "                           identity(2*N+1),\n",
    "                           charge(N))\n",
    "    H_cc = qp.tensor(qp.qzero(N), qp.qzero(2*N+1), qp.qzero(2*N+1))\n",
    "    charge_coeffs = np.array(M_n.tolist()).astype(np.float64)\n",
    "    for i in range(0,3):\n",
    "        for j in range(0,3):\n",
    "            H_cc += 0.5*(charge_ops[i])*charge_coeffs[i,j]*(charge_ops[j])\n",
    "    return H_cc"
   ]
  },
  {
   "cell_type": "code",
   "execution_count": 16,
   "metadata": {
    "collapsed": true
   },
   "outputs": [],
   "source": [
    "def H_L(L_r,C_r,N):\n",
    "    return qp.tensor(((1/2)**0.5*(L_r/C_r)**0.25*(destroy(N)+create(N)))**2/2/L_r/1e9,\n",
    "                           identity(2*N+1),\n",
    "                           identity(2*N+1))"
   ]
  },
  {
   "cell_type": "code",
   "execution_count": 17,
   "metadata": {
    "collapsed": true
   },
   "outputs": [],
   "source": [
    "def H(Ej1,Ej2,L_r,C_r,N,) :\n",
    "    return H_c(L_r,C_r,N)+H_J(Ej1,Ej2,N)+H_L(L_r,C_r,N)"
   ]
  },
  {
   "cell_type": "code",
   "execution_count": 59,
   "metadata": {
    "collapsed": false,
    "scrolled": true
   },
   "outputs": [
    {
     "name": "stdout",
     "output_type": "stream",
     "text": [
      " 49"
     ]
    }
   ],
   "source": [
    "N =7\n",
    "evals = []\n",
    "phis = np.linspace(-.1,.1,50)\n",
    "Ej1s = 18*2*np.pi*np.cos(1*np.pi*phis-pi/5)\n",
    "Ej2s = 15*2*np.pi*np.cos(1*np.pi*phis+np.pi/5)\n",
    "for idx, Ej1, Ej2 in zip(range(len(phis)),Ej1s,Ej2s):\n",
    "    print(\"\\r\", idx, end=\"\")\n",
    "    vals = H(Ej1, Ej2, 1e-9*1.5, 0.3e-12*1.5, N).eigenenergies(eigvals=10)\n",
    "    evals.append(vals-vals[0])"
   ]
  },
  {
   "cell_type": "code",
   "execution_count": 30,
   "metadata": {
    "collapsed": false
   },
   "outputs": [],
   "source": [
    "for vals in np.array(evals).T:\n",
    "    plt.plot(phis, vals/2/np.pi)"
   ]
  },
  {
   "cell_type": "code",
   "execution_count": 171,
   "metadata": {
    "collapsed": false
   },
   "outputs": [
    {
     "name": "stdout",
     "output_type": "stream",
     "text": [
      "0 1\n",
      "1 2\n",
      "2 7\n",
      "3 19\n"
     ]
    }
   ],
   "source": [
    "sequence = [1, 2, 7, 19]\n",
    "# образование пары номер элемента и сам элемент\n",
    "    \n",
    "for idx, item in enumerate(sequence):\n",
    "    print(idx,item)"
   ]
  },
  {
   "cell_type": "code",
   "execution_count": 227,
   "metadata": {
    "collapsed": true
   },
   "outputs": [],
   "source": [
    "charge_coeffs = np.array(M_n.tolist()).astype(np.float64)\n",
    "def H_res(N, L_r,C_r):\n",
    "    return ((1/2)**0.5*(C_r/L_r)**0.25*(destroy(N)-create(N))/1j)**2/2/1e9*charge_coeffs[0][0]/(4*e**2/hbar/10**9) + ((1/2)**0.5*(L_r/C_r)**0.25*(destroy(N)+create(N)))**2/2/L_r/1e9"
   ]
  },
  {
   "cell_type": "code",
   "execution_count": 95,
   "metadata": {
    "collapsed": false
   },
   "outputs": [
    {
     "data": {
      "text/latex": [
       "$$14.433756729740647$$"
      ],
      "text/plain": [
       "14.433756729740647"
      ]
     },
     "execution_count": 95,
     "metadata": {},
     "output_type": "execute_result"
    }
   ],
   "source": [
    "((1/2)**0.5*(C_r/L_r)**0.25)**2/2/C_r/1e9/hbar"
   ]
  },
  {
   "cell_type": "code",
   "execution_count": 91,
   "metadata": {
    "collapsed": false
   },
   "outputs": [
    {
     "data": {
      "text/latex": [
       "$$14.433756729740644$$"
      ],
      "text/plain": [
       "14.433756729740644"
      ]
     },
     "execution_count": 91,
     "metadata": {},
     "output_type": "execute_result"
    }
   ],
   "source": [
    "((hbar/2)**0.5*(L_r/C_r)**0.25)**2/2/L_r/hbar/1e9"
   ]
  },
  {
   "cell_type": "code",
   "execution_count": 37,
   "metadata": {
    "collapsed": false
   },
   "outputs": [
    {
     "data": {
      "text/latex": [
       "$$\\left ( 57.73502691896258\\right )$$"
      ],
      "text/plain": [
       "(57.73502691896258,)"
      ]
     },
     "execution_count": 37,
     "metadata": {},
     "output_type": "execute_result"
    }
   ],
   "source": [
    "1/w/2*2/0.3e-12, "
   ]
  },
  {
   "cell_type": "code",
   "execution_count": 230,
   "metadata": {
    "collapsed": false
   },
   "outputs": [
    {
     "data": {
      "text/latex": [
       "Quantum object: dims = [[10], [10]], shape = (10, 10), type = oper, isherm = True\\begin{equation*}\\left(\\begin{array}{*{11}c}4.594 & 0.0 & 0.0 & 0.0 & 0.0 & 0.0 & 0.0 & 0.0 & 0.0 & 0.0\\\\0.0 & 13.783 & 0.0 & 0.0 & 0.0 & 0.0 & 0.0 & 0.0 & 0.0 & 0.0\\\\0.0 & 0.0 & 22.972 & 0.0 & 0.0 & 0.0 & 0.0 & 0.0 & 0.0 & 0.0\\\\0.0 & 0.0 & 0.0 & 32.161 & 0.0 & 0.0 & 0.0 & 0.0 & 0.0 & 0.0\\\\0.0 & 0.0 & 0.0 & 0.0 & 41.350 & 0.0 & 0.0 & 0.0 & 0.0 & 0.0\\\\0.0 & 0.0 & 0.0 & 0.0 & 0.0 & 50.538 & 0.0 & 0.0 & 0.0 & 0.0\\\\0.0 & 0.0 & 0.0 & 0.0 & 0.0 & 0.0 & 59.727 & 0.0 & 0.0 & 0.0\\\\0.0 & 0.0 & 0.0 & 0.0 & 0.0 & 0.0 & 0.0 & 68.916 & 0.0 & 0.0\\\\0.0 & 0.0 & 0.0 & 0.0 & 0.0 & 0.0 & 0.0 & 0.0 & 78.105 & 0.0\\\\0.0 & 0.0 & 0.0 & 0.0 & 0.0 & 0.0 & 0.0 & 0.0 & 0.0 & 41.350\\\\\\end{array}\\right)\\end{equation*}"
      ],
      "text/plain": [
       "Quantum object: dims = [[10], [10]], shape = (10, 10), type = oper, isherm = True\n",
       "Qobj data =\n",
       "[[  4.59440746   0.           0.           0.           0.           0.\n",
       "    0.           0.           0.           0.        ]\n",
       " [  0.          13.78322239   0.           0.           0.           0.\n",
       "    0.           0.           0.           0.        ]\n",
       " [  0.           0.          22.97203731   0.           0.           0.\n",
       "    0.           0.           0.           0.        ]\n",
       " [  0.           0.           0.          32.16085223   0.           0.\n",
       "    0.           0.           0.           0.        ]\n",
       " [  0.           0.           0.           0.          41.34966716   0.\n",
       "    0.           0.           0.           0.        ]\n",
       " [  0.           0.           0.           0.           0.          50.53848208\n",
       "    0.           0.           0.           0.        ]\n",
       " [  0.           0.           0.           0.           0.           0.\n",
       "   59.727297     0.           0.           0.        ]\n",
       " [  0.           0.           0.           0.           0.           0.\n",
       "    0.          68.91611193   0.           0.        ]\n",
       " [  0.           0.           0.           0.           0.           0.\n",
       "    0.           0.          78.10492685   0.        ]\n",
       " [  0.           0.           0.           0.           0.           0.\n",
       "    0.           0.           0.          41.34966716]]"
      ]
     },
     "execution_count": 230,
     "metadata": {},
     "output_type": "execute_result"
    }
   ],
   "source": [
    "H_res(10,1e-9,0.3e-12)/2/np.pi"
   ]
  },
  {
   "cell_type": "code",
   "execution_count": 31,
   "metadata": {
    "collapsed": true
   },
   "outputs": [],
   "source": [
    "N = 7"
   ]
  },
  {
   "cell_type": "code",
   "execution_count": 48,
   "metadata": {
    "collapsed": false
   },
   "outputs": [],
   "source": [
    "evals, evecs = (4*0.2*charge(N)**2+15*0.5*qp.tunneling(2*N+1, 1)).eigenstates()"
   ]
  },
  {
   "cell_type": "code",
   "execution_count": 49,
   "metadata": {
    "collapsed": false
   },
   "outputs": [
    {
     "name": "stderr",
     "output_type": "stream",
     "text": [
      "C:\\Users\\dns\\Anaconda2\\envs\\Victoriya\\lib\\site-packages\\numpy\\core\\numeric.py:531: ComplexWarning: Casting complex values to real discards the imaginary part\n",
      "  return array(a, dtype, copy=False, order=order)\n"
     ]
    },
    {
     "data": {
      "text/plain": [
       "[<matplotlib.lines.Line2D at 0x5e25f1f668>]"
      ]
     },
     "execution_count": 49,
     "metadata": {},
     "output_type": "execute_result"
    }
   ],
   "source": [
    "plt.plot(evecs[0].full())"
   ]
  },
  {
   "cell_type": "code",
   "execution_count": 47,
   "metadata": {
    "collapsed": false
   },
   "outputs": [
    {
     "data": {
      "text/plain": [
       "array([  0.00000000e+00,  -3.12638804e-13,  -1.98951966e-13,\n",
       "         2.46299804e-01,  -7.16039190e-02,   2.46299804e-01,\n",
       "         2.46299804e-01,  -7.16039190e-02,  -7.16039190e-02,\n",
       "         4.96471127e-01])"
      ]
     },
     "execution_count": 47,
     "metadata": {},
     "output_type": "execute_result"
    }
   ],
   "source": [
    "evals[1]-evals[0]"
   ]
  },
  {
   "cell_type": "code",
   "execution_count": 75,
   "metadata": {
    "collapsed": false
   },
   "outputs": [
    {
     "data": {
      "text/plain": [
       "(1.2104268583793361+0j)"
      ]
     },
     "execution_count": 75,
     "metadata": {},
     "output_type": "execute_result"
    }
   ],
   "source": [
    "charge(N).matrix_element(evecs[0],evecs[1])"
   ]
  },
  {
   "cell_type": "code",
   "execution_count": null,
   "metadata": {
    "collapsed": true
   },
   "outputs": [],
   "source": []
  },
  {
   "cell_type": "code",
   "execution_count": 18,
   "metadata": {
    "collapsed": true
   },
   "outputs": [],
   "source": [
    "def H_J1(Ej1,N):\n",
    "    H1 = 0.5*qp.tunneling(2*N+1, 1)\n",
    "    return -H1 * Ej1\n",
    "def H_c1(Cq1,N):\n",
    "    Ec = e**2/2/Cq1/hbar/10**9\n",
    "    return 4*Ec*charge(N)**2"
   ]
  },
  {
   "cell_type": "code",
   "execution_count": 19,
   "metadata": {
    "collapsed": true
   },
   "outputs": [],
   "source": [
    "def H_tr1(Ej1,Cq1,N):\n",
    "    return H_J1(Ej1,N)+H_c1(Cq1,N)\n",
    "def H_tr2(Ej2,Cq2,N):\n",
    "    return H_J1(Ej2,N)+H_c1(Cq2,N)\n",
    "def H_res1(C_r,L_r,N):\n",
    "    return 1/(C_r*L_r)**0.5*(0.5+create(N)*destroy(N))/1e9"
   ]
  },
  {
   "cell_type": "code",
   "execution_count": 20,
   "metadata": {
    "collapsed": false
   },
   "outputs": [],
   "source": [
    "N = 7\n",
    "evalst1, evecst1 = H_tr1(18*2*np.pi, float(1/M_n0[1,1]), N).eigenstates()\n",
    "evalst2, evecst2 = H_tr2(15*2*np.pi, float(1/M_n0[2,2]), N).eigenstates()\n",
    "evalsr, evecsr = H_res1(0.3e-12*1.5, 1e-9*1.5, N).eigenstates()\n",
    "evals_test, evecs_test = H(18*2*np.pi, 15*2*np.pi, 1e-9*1.5, 0.3e-12*1.5, N).eigenstates()"
   ]
  },
  {
   "cell_type": "code",
   "execution_count": 74,
   "metadata": {
    "collapsed": false
   },
   "outputs": [
    {
     "data": {
      "text/plain": [
       "(array([  0.        ,   5.35462541,  10.46995186,  15.32594705,\n",
       "         19.89544682,  24.14836877,  27.94156123,  31.66960204,\n",
       "         33.35669955,  39.07624883,  39.17533166,  48.84615387,\n",
       "         48.8470088 ,  63.53084656,  63.53084751]),\n",
       " array([  0.        ,   4.92791609,   9.60685002,  14.01227855,\n",
       "         18.10477889,  21.87098304,  24.88119175,  28.62014016,\n",
       "         29.29816558,  36.07547045,  36.09212606,  45.93269992,\n",
       "         45.93279692,  60.18119747,  60.18119756]))"
      ]
     },
     "execution_count": 74,
     "metadata": {},
     "output_type": "execute_result"
    }
   ],
   "source": [
    "(evalst1-evalst1[0])/2/np.pi, (evalst2-evalst2[0])/2/np.pi"
   ]
  },
  {
   "cell_type": "code",
   "execution_count": 22,
   "metadata": {
    "collapsed": false
   },
   "outputs": [
    {
     "name": "stdout",
     "output_type": "stream",
     "text": [
      "0 (0, 0, 0) 0.999766997157 0.0\n",
      "1 (0, 0, 1) 0.984984428402 4.90174454371\n",
      "2 (0, 1, 0) 0.959843770263 5.31731972109\n",
      "3 (1, 0, 0) 0.961840717844 6.0578357933\n",
      "4 (0, 0, 2) 0.983984036443 9.56715981591\n",
      "5 (0, 1, 1) 0.896219737409 10.1989865013\n",
      "6 (0, 2, 0) 0.896294894085 10.4348085465\n",
      "7 (1, 0, 1) 0.940935775023 10.9513781554\n",
      "8 (1, 1, 0) 0.887728435699 11.3528249858\n",
      "9 (2, 0, 0) 0.926988676281 12.1147119013\n",
      "10 (0, 0, 3) 0.985504883732 13.9656886205\n",
      "11 (0, 1, 2) 0.924509101315 14.8680150506\n",
      "12 (6, 0, 0) 0.998898643527 14.9898058528\n",
      "13 (0, 3, 0) 0.824976333612 15.1914037226\n",
      "14 (0, 2, 1) 0.781321094231 15.4048101295\n",
      "15 (1, 0, 2) 0.937261991422 15.6118240887\n",
      "16 (1, 1, 1) 0.831326982193 16.2264472497\n",
      "17 (1, 2, 0) 0.819627418999 16.4584322144\n",
      "18 (2, 0, 1) 0.900757658632 17.0001448751\n",
      "19 (2, 1, 0) 0.820796853803 17.3883547217\n"
     ]
    }
   ],
   "source": [
    "#inx_n = []\n",
    "for n in range(0,20):\n",
    "    pro_max = 0\n",
    "    idx_max = (0, 0, 0)\n",
    "    for i,j,k in product(range(N),range(2*N+1),range(2*N+1)):\n",
    "#         print(i,j,k, pro)\n",
    "        pro = np.abs((tensor(evecsr[i],evecst1[j],evecst2[k]).dag()*evecs_test[n]).full()[0,0])\n",
    "        if pro > pro_max:\n",
    "            pro_max = pro\n",
    "            idx_max = (i, j, k)\n",
    "    print (n, idx_max, pro_max, (evals_test[n]-evals_test[0])/2/pi)     "
   ]
  },
  {
   "cell_type": "code",
   "execution_count": 28,
   "metadata": {
    "collapsed": false
   },
   "outputs": [
    {
     "data": {
      "text/latex": [
       "$$\\left ( 6.0578357933, \\quad 6.03550526467, \\quad 6.04963361166\\right )$$"
      ],
      "text/plain": [
       "(6.0578357933, 6.03550526467, 6.04963361166)"
      ]
     },
     "execution_count": 28,
     "metadata": {},
     "output_type": "execute_result"
    }
   ],
   "source": [
    "(evals_test[3]-evals_test[0])/2/np.pi, (evals_test[8]-evals_test[2])/2/np.pi, (evals_test[7]-evals_test[1])/2/np.pi"
   ]
  },
  {
   "cell_type": "code",
   "execution_count": 26,
   "metadata": {
    "collapsed": false
   },
   "outputs": [
    {
     "data": {
      "text/latex": [
       "$$6.03550526467$$"
      ],
      "text/plain": [
       "6.03550526467"
      ]
     },
     "execution_count": 26,
     "metadata": {},
     "output_type": "execute_result"
    }
   ],
   "source": []
  },
  {
   "cell_type": "code",
   "execution_count": 27,
   "metadata": {
    "collapsed": false
   },
   "outputs": [
    {
     "data": {
      "text/latex": [
       "$$6.04963361166$$"
      ],
      "text/plain": [
       "6.04963361166"
      ]
     },
     "execution_count": 27,
     "metadata": {},
     "output_type": "execute_result"
    }
   ],
   "source": []
  },
  {
   "cell_type": "code",
   "execution_count": 50,
   "metadata": {
    "collapsed": false
   },
   "outputs": [
    {
     "data": {
      "text/plain": [
       "[<matplotlib.lines.Line2D at 0x5e2d44c9b0>]"
      ]
     },
     "execution_count": 50,
     "metadata": {},
     "output_type": "execute_result"
    }
   ],
   "source": [
    "plt.plot(evals_test-evals_test[0], \".\")"
   ]
  },
  {
   "cell_type": "code",
   "execution_count": 256,
   "metadata": {
    "collapsed": false
   },
   "outputs": [
    {
     "data": {
      "text/latex": [
       "Quantum object: dims = [[1], [1]], shape = (1, 1), type = bra\\begin{equation*}\\left(\\begin{array}{*{11}c}-0.747j\\\\\\end{array}\\right)\\end{equation*}"
      ],
      "text/plain": [
       "Quantum object: dims = [[1], [1]], shape = (1, 1), type = bra\n",
       "Qobj data =\n",
       "[[ 0.-0.74660683j]]"
      ]
     },
     "execution_count": 256,
     "metadata": {},
     "output_type": "execute_result"
    }
   ],
   "source": [
    "evecs_test[19].dag()*tensor(evecsr[1], evecst1[1], evecst2[1])"
   ]
  },
  {
   "cell_type": "code",
   "execution_count": 260,
   "metadata": {
    "collapsed": false
   },
   "outputs": [
    {
     "data": {
      "text/plain": [
       "[<matplotlib.lines.Line2D at 0x32ab471128>]"
      ]
     },
     "execution_count": 260,
     "metadata": {},
     "output_type": "execute_result"
    }
   ],
   "source": [
    "plt.plot(abs(evecs_test[10].full()))"
   ]
  },
  {
   "cell_type": "code",
   "execution_count": 51,
   "metadata": {
    "collapsed": false,
    "scrolled": true
   },
   "outputs": [
    {
     "data": {
      "text/plain": [
       "[<matplotlib.lines.Line2D at 0x5e2d7a15c0>]"
      ]
     },
     "execution_count": 51,
     "metadata": {},
     "output_type": "execute_result"
    }
   ],
   "source": [
    "plt.plot(abs(tensor(evecsr[1], evecst1[1], evecst2[1]).full()))"
   ]
  },
  {
   "cell_type": "code",
   "execution_count": 244,
   "metadata": {
    "collapsed": false
   },
   "outputs": [
    {
     "data": {
      "text/plain": [
       "<Container object of 15 artists>"
      ]
     },
     "execution_count": 244,
     "metadata": {},
     "output_type": "execute_result"
    }
   ],
   "source": [
    "plt.bar(range(15), range(15))"
   ]
  },
  {
   "cell_type": "code",
   "execution_count": 67,
   "metadata": {
    "collapsed": false
   },
   "outputs": [
    {
     "data": {
      "text/latex": [
       "Quantum object: dims = [[3, 7, 7], [1, 1, 1]], shape = (147, 1), type = ket\\begin{equation*}\\left(\\begin{array}{*{11}c}-5.322\\times10^{-04}\\\\-0.003\\\\-0.012\\\\-0.019\\\\-0.013\\\\\\vdots\\\\2.383\\times10^{-04}\\\\3.750\\times10^{-04}\\\\2.501\\times10^{-04}\\\\7.733\\times10^{-05}\\\\1.271\\times10^{-05}\\\\\\end{array}\\right)\\end{equation*}"
      ],
      "text/plain": [
       "Quantum object: dims = [[3, 7, 7], [1, 1, 1]], shape = (147, 1), type = ket\n",
       "Qobj data =\n",
       "[[ -5.32159477e-04 +0.00000000e+00j]\n",
       " [ -3.43268201e-03 +0.00000000e+00j]\n",
       " [ -1.18578389e-02 +0.00000000e+00j]\n",
       " [ -1.89799486e-02 +0.00000000e+00j]\n",
       " [ -1.26538249e-02 +0.00000000e+00j]\n",
       " [ -3.87583068e-03 +0.00000000e+00j]\n",
       " [ -6.29809718e-04 +0.00000000e+00j]\n",
       " [ -3.14109026e-03 +0.00000000e+00j]\n",
       " [ -2.01270490e-02 +0.00000000e+00j]\n",
       " [ -6.89802586e-02 +0.00000000e+00j]\n",
       " [ -1.09420360e-01 +0.00000000e+00j]\n",
       " [ -7.22905992e-02 +0.00000000e+00j]\n",
       " [ -2.19657710e-02 +0.00000000e+00j]\n",
       " [ -3.54526258e-03 +0.00000000e+00j]\n",
       " [ -1.01050995e-02 +0.00000000e+00j]\n",
       " [ -6.42433878e-02 +0.00000000e+00j]\n",
       " [ -2.18110261e-01 +0.00000000e+00j]\n",
       " [ -3.42230768e-01 +0.00000000e+00j]\n",
       " [ -2.23638008e-01 +0.00000000e+00j]\n",
       " [ -6.73073281e-02 +0.00000000e+00j]\n",
       " [ -1.07771023e-02 +0.00000000e+00j]\n",
       " [ -1.56868668e-02 +0.00000000e+00j]\n",
       " [ -9.88491616e-02 +0.00000000e+00j]\n",
       " [ -3.32010047e-01 +0.00000000e+00j]\n",
       " [ -5.14477205e-01 +0.00000000e+00j]\n",
       " [ -3.32010047e-01 +0.00000000e+00j]\n",
       " [ -9.88491616e-02 +0.00000000e+00j]\n",
       " [ -1.56868668e-02 +0.00000000e+00j]\n",
       " [ -1.07771023e-02 +0.00000000e+00j]\n",
       " [ -6.73073281e-02 +0.00000000e+00j]\n",
       " [ -2.23638008e-01 +0.00000000e+00j]\n",
       " [ -3.42230768e-01 +0.00000000e+00j]\n",
       " [ -2.18110261e-01 +0.00000000e+00j]\n",
       " [ -6.42433878e-02 +0.00000000e+00j]\n",
       " [ -1.01050995e-02 +0.00000000e+00j]\n",
       " [ -3.54526258e-03 +0.00000000e+00j]\n",
       " [ -2.19657710e-02 +0.00000000e+00j]\n",
       " [ -7.22905992e-02 +0.00000000e+00j]\n",
       " [ -1.09420360e-01 +0.00000000e+00j]\n",
       " [ -6.89802586e-02 +0.00000000e+00j]\n",
       " [ -2.01270490e-02 +0.00000000e+00j]\n",
       " [ -3.14109026e-03 +0.00000000e+00j]\n",
       " [ -6.29809718e-04 +0.00000000e+00j]\n",
       " [ -3.87583068e-03 +0.00000000e+00j]\n",
       " [ -1.26538249e-02 +0.00000000e+00j]\n",
       " [ -1.89799486e-02 +0.00000000e+00j]\n",
       " [ -1.18578389e-02 +0.00000000e+00j]\n",
       " [ -3.43268201e-03 +0.00000000e+00j]\n",
       " [ -5.32159477e-04 +0.00000000e+00j]\n",
       " [  0.00000000e+00 -3.69629645e-05j]\n",
       " [  0.00000000e+00 -2.07716057e-04j]\n",
       " [  0.00000000e+00 -5.92528778e-04j]\n",
       " [  0.00000000e+00 -7.21496880e-04j]\n",
       " [  0.00000000e+00 -3.29174449e-04j]\n",
       " [  0.00000000e+00 -5.96999916e-05j]\n",
       " [  0.00000000e+00 -4.03515277e-06j]\n",
       " [  0.00000000e+00 -1.84102803e-04j]\n",
       " [  0.00000000e+00 -9.99300924e-04j]\n",
       " [  0.00000000e+00 -2.69639331e-03j]\n",
       " [  0.00000000e+00 -2.96715888e-03j]\n",
       " [  0.00000000e+00 -1.09245910e-03j]\n",
       " [  0.00000000e+00 -9.88716984e-05j]\n",
       " [  0.00000000e+00 +1.59391098e-05j]\n",
       " [  0.00000000e+00 -4.63663341e-04j]\n",
       " [  0.00000000e+00 -2.37084100e-03j]\n",
       " [  0.00000000e+00 -5.74045224e-03j]\n",
       " [  0.00000000e+00 -4.90191050e-03j]\n",
       " [  0.00000000e+00 -5.16556308e-04j]\n",
       " [  0.00000000e+00 +5.58837489e-04j]\n",
       " [  0.00000000e+00 +1.86465166e-04j]\n",
       " [  0.00000000e+00 -4.95973563e-04j]\n",
       " [  0.00000000e+00 -2.23610172e-03j]\n",
       " [  0.00000000e+00 -3.98894959e-03j]\n",
       " [  0.00000000e+00 +0.00000000e+00j]\n",
       " [  0.00000000e+00 +3.98894959e-03j]\n",
       " [  0.00000000e+00 +2.23610172e-03j]\n",
       " [  0.00000000e+00 +4.95973563e-04j]\n",
       " [  0.00000000e+00 -1.86465166e-04j]\n",
       " [  0.00000000e+00 -5.58837489e-04j]\n",
       " [  0.00000000e+00 +5.16556308e-04j]\n",
       " [  0.00000000e+00 +4.90191050e-03j]\n",
       " [  0.00000000e+00 +5.74045224e-03j]\n",
       " [  0.00000000e+00 +2.37084100e-03j]\n",
       " [  0.00000000e+00 +4.63663341e-04j]\n",
       " [  0.00000000e+00 -1.59391098e-05j]\n",
       " [  0.00000000e+00 +9.88716984e-05j]\n",
       " [  0.00000000e+00 +1.09245910e-03j]\n",
       " [  0.00000000e+00 +2.96715888e-03j]\n",
       " [  0.00000000e+00 +2.69639331e-03j]\n",
       " [  0.00000000e+00 +9.99300924e-04j]\n",
       " [  0.00000000e+00 +1.84102803e-04j]\n",
       " [  0.00000000e+00 +4.03515277e-06j]\n",
       " [  0.00000000e+00 +5.96999916e-05j]\n",
       " [  0.00000000e+00 +3.29174449e-04j]\n",
       " [  0.00000000e+00 +7.21496880e-04j]\n",
       " [  0.00000000e+00 +5.92528778e-04j]\n",
       " [  0.00000000e+00 +2.07716057e-04j]\n",
       " [  0.00000000e+00 +3.69629645e-05j]\n",
       " [  1.27122486e-05 +0.00000000e+00j]\n",
       " [  7.73338636e-05 +0.00000000e+00j]\n",
       " [  2.50123453e-04 +0.00000000e+00j]\n",
       " [  3.75040603e-04 +0.00000000e+00j]\n",
       " [  2.38349588e-04 +0.00000000e+00j]\n",
       " [  7.11452125e-05 +0.00000000e+00j]\n",
       " [  1.14394660e-05 +0.00000000e+00j]\n",
       " [  6.99077523e-05 +0.00000000e+00j]\n",
       " [  4.24774926e-04 +0.00000000e+00j]\n",
       " [  1.37452526e-03 +0.00000000e+00j]\n",
       " [  2.06776572e-03 +0.00000000e+00j]\n",
       " [  1.32174601e-03 +0.00000000e+00j]\n",
       " [  3.96933091e-04 +0.00000000e+00j]\n",
       " [  6.41544527e-05 +0.00000000e+00j]\n",
       " [  2.08223992e-04 +0.00000000e+00j]\n",
       " [  1.26626877e-03 +0.00000000e+00j]\n",
       " [  4.11116392e-03 +0.00000000e+00j]\n",
       " [  6.22744987e-03 +0.00000000e+00j]\n",
       " [  4.01756067e-03 +0.00000000e+00j]\n",
       " [  1.21677253e-03 +0.00000000e+00j]\n",
       " [  1.97962857e-04 +0.00000000e+00j]\n",
       " [  3.01175767e-04 +0.00000000e+00j]\n",
       " [  1.83894992e-03 +0.00000000e+00j]\n",
       " [  6.01395989e-03 +0.00000000e+00j]\n",
       " [  9.21036715e-03 +0.00000000e+00j]\n",
       " [  6.01395989e-03 +0.00000000e+00j]\n",
       " [  1.83894992e-03 +0.00000000e+00j]\n",
       " [  3.01175767e-04 +0.00000000e+00j]\n",
       " [  1.97962857e-04 +0.00000000e+00j]\n",
       " [  1.21677253e-03 +0.00000000e+00j]\n",
       " [  4.01756067e-03 +0.00000000e+00j]\n",
       " [  6.22744987e-03 +0.00000000e+00j]\n",
       " [  4.11116392e-03 +0.00000000e+00j]\n",
       " [  1.26626877e-03 +0.00000000e+00j]\n",
       " [  2.08223992e-04 +0.00000000e+00j]\n",
       " [  6.41544527e-05 +0.00000000e+00j]\n",
       " [  3.96933091e-04 +0.00000000e+00j]\n",
       " [  1.32174601e-03 +0.00000000e+00j]\n",
       " [  2.06776572e-03 +0.00000000e+00j]\n",
       " [  1.37452526e-03 +0.00000000e+00j]\n",
       " [  4.24774926e-04 +0.00000000e+00j]\n",
       " [  6.99077523e-05 +0.00000000e+00j]\n",
       " [  1.14394660e-05 +0.00000000e+00j]\n",
       " [  7.11452125e-05 +0.00000000e+00j]\n",
       " [  2.38349588e-04 +0.00000000e+00j]\n",
       " [  3.75040603e-04 +0.00000000e+00j]\n",
       " [  2.50123453e-04 +0.00000000e+00j]\n",
       " [  7.73338636e-05 +0.00000000e+00j]\n",
       " [  1.27122486e-05 +0.00000000e+00j]]"
      ]
     },
     "execution_count": 67,
     "metadata": {},
     "output_type": "execute_result"
    }
   ],
   "source": [
    "evec[0]"
   ]
  },
  {
   "cell_type": "code",
   "execution_count": 16,
   "metadata": {
    "collapsed": false
   },
   "outputs": [
    {
     "data": {
      "text/latex": [
       "$$3.120754562941629e+18$$"
      ],
      "text/plain": [
       "3.120754562941629e+18"
      ]
     },
     "execution_count": 16,
     "metadata": {},
     "output_type": "execute_result"
    }
   ],
   "source": [
    "1/2/e*2*pi"
   ]
  },
  {
   "cell_type": "code",
   "execution_count": 23,
   "metadata": {
    "collapsed": false
   },
   "outputs": [
    {
     "data": {
      "text/latex": [
       "$$3.0200317809951596e-08$$"
      ],
      "text/plain": [
       "3.0200317809951596e-08"
      ]
     },
     "execution_count": 23,
     "metadata": {},
     "output_type": "execute_result"
    }
   ],
   "source": [
    "15*2*pi*1e9*2*e"
   ]
  },
  {
   "cell_type": "code",
   "execution_count": null,
   "metadata": {
    "collapsed": true
   },
   "outputs": [],
   "source": []
  }
 ],
 "metadata": {
  "anaconda-cloud": {},
  "kernelspec": {
   "display_name": "Python [Victoriya]",
   "language": "python",
   "name": "Python [Victoriya]"
  },
  "language_info": {
   "codemirror_mode": {
    "name": "ipython",
    "version": 3
   },
   "file_extension": ".py",
   "mimetype": "text/x-python",
   "name": "python",
   "nbconvert_exporter": "python",
   "pygments_lexer": "ipython3",
   "version": "3.6.1"
  }
 },
 "nbformat": 4,
 "nbformat_minor": 2
}
